{
 "cells": [
  {
   "cell_type": "code",
   "execution_count": null,
   "id": "163d9d9e",
   "metadata": {},
   "outputs": [],
   "source": [
    "import pandas as pd\n",
    "import numpy as np\n",
    "import matplotlib.pyplot as plt "
   ]
  },
  {
   "cell_type": "code",
   "execution_count": null,
   "id": "d53a47a2",
   "metadata": {},
   "outputs": [],
   "source": [
    "# Load Exam Data\n",
    "exam1 = pd.read_csv(\"Exam_1_scores.csv\")\n",
    "exam2 = pd.read_csv(\"Exam_2_scores.csv\")\n",
    "exam3 = pd.read_csv(\"Exam_3_scores.csv\")"
   ]
  },
  {
   "cell_type": "code",
   "execution_count": null,
   "id": "ae7aca75",
   "metadata": {},
   "outputs": [],
   "source": [
    "exam1.head()"
   ]
  },
  {
   "cell_type": "code",
   "execution_count": null,
   "id": "e6719f1f",
   "metadata": {},
   "outputs": [],
   "source": [
    "exam2.head()"
   ]
  },
  {
   "cell_type": "code",
   "execution_count": null,
   "id": "da695ca9",
   "metadata": {},
   "outputs": [],
   "source": [
    "exam3.head()"
   ]
  },
  {
   "cell_type": "code",
   "execution_count": null,
   "id": "5603a11a",
   "metadata": {},
   "outputs": [],
   "source": [
    "def summarize_exam(df):\n",
    "    scores = df['Total Score']\n",
    "    return {\n",
    "        'Mean': scores.mean(),\n",
    "        'Q1': scores.quantile(0.25),\n",
    "        'Q3': scores.quantile(0.75),\n",
    "        'Median': scores.median(),\n",
    "        'Maximum': scores.max(),\n",
    "        'Minimum': scores.min(),\n",
    "        'Count of Missing': df['Status'].eq('Missing').sum(),\n",
    "        'Max Points': df['Max Points'].max()\n",
    "    }"
   ]
  },
  {
   "cell_type": "code",
   "execution_count": null,
   "id": "3b5e470b",
   "metadata": {},
   "outputs": [],
   "source": [
    "summarize_exam(exam1)\n"
   ]
  },
  {
   "cell_type": "code",
   "execution_count": null,
   "id": "0ad4b4c2",
   "metadata": {},
   "outputs": [],
   "source": [
    "summarize_exam(exam2)"
   ]
  },
  {
   "cell_type": "code",
   "execution_count": null,
   "id": "da974f44",
   "metadata": {},
   "outputs": [],
   "source": [
    "summarize_exam(exam3)"
   ]
  },
  {
   "cell_type": "code",
   "execution_count": null,
   "id": "a67384da",
   "metadata": {},
   "outputs": [],
   "source": [
    "#Visualizing grade distribution\n",
    "\n",
    "scores = [exam1['Total Score'].dropna().astype(float),\n",
    "    exam2['Total Score'].dropna().astype(float),\n",
    "    exam3['Total Score'].dropna().astype(float)\n",
    "]"
   ]
  },
  {
   "cell_type": "code",
   "execution_count": null,
   "id": "55b38942",
   "metadata": {},
   "outputs": [],
   "source": [
    "plt.figure(figsize=(10, 6))\n",
    "plt.boxplot(scores, labels=['Exam 1', 'Exam 2', 'Exam 3'])\n",
    "plt.title('Comparison of Total Scores Across Exams')\n",
    "plt.ylabel('Total Score')\n",
    "plt.xlabel('Exam')\n",
    "plt.show()"
   ]
  },
  {
   "cell_type": "code",
   "execution_count": null,
   "id": "462f2d0a",
   "metadata": {},
   "outputs": [],
   "source": []
  }
 ],
 "metadata": {
  "kernelspec": {
   "display_name": "Python 3 (ipykernel)",
   "language": "python",
   "name": "python3"
  },
  "language_info": {
   "codemirror_mode": {
    "name": "ipython",
    "version": 3
   },
   "file_extension": ".py",
   "mimetype": "text/x-python",
   "name": "python",
   "nbconvert_exporter": "python",
   "pygments_lexer": "ipython3",
   "version": "3.11.7"
  }
 },
 "nbformat": 4,
 "nbformat_minor": 5
}
