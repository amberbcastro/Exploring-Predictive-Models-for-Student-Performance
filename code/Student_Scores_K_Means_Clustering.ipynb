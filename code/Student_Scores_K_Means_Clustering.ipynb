{
 "cells": [
  {
   "cell_type": "code",
   "execution_count": null,
   "id": "d6f15a29",
   "metadata": {},
   "outputs": [],
   "source": [
    "import pandas as pd\n",
    "import numpy as np\n",
    "import matplotlib.pyplot as plt\n",
    "from sklearn.cluster import KMeans\n",
    "from sklearn.metrics import silhouette_score"
   ]
  },
  {
   "cell_type": "code",
   "execution_count": null,
   "id": "12798fda",
   "metadata": {},
   "outputs": [],
   "source": [
    "exam1 = pd.read_csv(\"Exam_1_scores.csv\")\n",
    "exam2 = pd.read_csv(\"Exam_2_scores.csv\")\n",
    "exam3 = pd.read_csv(\"Exam_3_scores.csv\")"
   ]
  },
  {
   "cell_type": "code",
   "execution_count": null,
   "id": "bbdd60a2",
   "metadata": {},
   "outputs": [],
   "source": [
    "# Only graded exams\n",
    "exam1 = exam1[exam1['Status'] == 'Graded']\n",
    "exam2 = exam2[exam2['Status'] == 'Graded']\n",
    "exam3 = exam3[exam3['Status'] == 'Graded']"
   ]
  },
  {
   "cell_type": "code",
   "execution_count": null,
   "id": "b9d2ce33",
   "metadata": {},
   "outputs": [],
   "source": [
    "# Normalize scores to percentage of max points\n",
    "exam1['Exam1'] = exam1['Total Score'] / exam1['Max Points'] * 100\n",
    "exam2['Exam2'] = exam2['Total Score'] / exam2['Max Points'] * 100\n",
    "exam3['Exam3'] = exam3['Total Score'] / exam3['Max Points'] * 100\n"
   ]
  },
  {
   "cell_type": "code",
   "execution_count": null,
   "id": "55239f1a",
   "metadata": {},
   "outputs": [],
   "source": [
    "# Keep only SID and normalized score\n",
    "exam1 = exam1[['SID', 'Exam1']]\n",
    "exam2 = exam2[['SID', 'Exam2']]\n",
    "exam3 = exam3[['SID', 'Exam3']]\n"
   ]
  },
  {
   "cell_type": "code",
   "execution_count": null,
   "id": "579eb2c4",
   "metadata": {},
   "outputs": [],
   "source": [
    "data = exam1.merge(exam2, on='SID').merge(exam3, on='SID')\n",
    "\n",
    "# Features for clustering\n",
    "X = data[['Exam1', 'Exam2', 'Exam3']]"
   ]
  },
  {
   "cell_type": "code",
   "execution_count": null,
   "id": "ce8698f6",
   "metadata": {},
   "outputs": [],
   "source": [
    "# Using elbow method to determine best k\n",
    "inertias = []\n",
    "Ks = range(2, 9)\n",
    "for k in Ks:\n",
    "    km = KMeans(n_clusters=k, random_state=42)\n",
    "    km.fit(X)\n",
    "    inertias.append(km.inertia_)\n",
    "\n",
    "# Plot Elbow curve\n",
    "plt.figure(figsize=(6, 4))\n",
    "plt.plot(Ks, inertias, marker='o')\n",
    "plt.xlabel('Number of Clusters (k)')\n",
    "plt.ylabel('Inertia')\n",
    "plt.title('Elbow Method: Inertia vs. k')\n",
    "plt.grid(True)\n",
    "plt.tight_layout()\n",
    "plt.show()"
   ]
  },
  {
   "cell_type": "code",
   "execution_count": null,
   "id": "4b03844d",
   "metadata": {},
   "outputs": [],
   "source": [
    "# Run K-Means with 3 clusters\n",
    "kmeans = KMeans(n_clusters=3, random_state=42)\n",
    "data['Cluster'] = kmeans.fit_predict(X)"
   ]
  },
  {
   "cell_type": "code",
   "execution_count": null,
   "id": "e24a0c48",
   "metadata": {},
   "outputs": [],
   "source": [
    "# Compute silhouette score\n",
    "score = silhouette_score(X, data['Cluster'])\n",
    "print(f\"Silhouette Score: {score:.2f}\")"
   ]
  },
  {
   "cell_type": "code",
   "execution_count": null,
   "id": "b361c2b9",
   "metadata": {},
   "outputs": [],
   "source": [
    "# 3D scatter plot of clusters\n",
    "fig = plt.figure(figsize=(8, 6))\n",
    "ax = fig.add_subplot(projection='3d')\n",
    "scatter = ax.scatter(\n",
    "    data['Exam1'], data['Exam2'], data['Exam3'],\n",
    "    c=data['Cluster'], cmap='viridis', alpha=0.7\n",
    ")\n",
    "ax.set_xlabel('Exam 1 (%)')\n",
    "ax.set_ylabel('Exam 2 (%)')\n",
    "ax.set_zlabel('Exam 3 (%)')\n",
    "ax.set_title('K-Means Clustering of Exam Scores')\n",
    "plt.legend(*scatter.legend_elements(), title=\"Cluster\")\n",
    "plt.tight_layout()\n",
    "plt.show()"
   ]
  }
 ],
 "metadata": {
  "kernelspec": {
   "display_name": "Python 3 (ipykernel)",
   "language": "python",
   "name": "python3"
  },
  "language_info": {
   "codemirror_mode": {
    "name": "ipython",
    "version": 3
   },
   "file_extension": ".py",
   "mimetype": "text/x-python",
   "name": "python",
   "nbconvert_exporter": "python",
   "pygments_lexer": "ipython3",
   "version": "3.11.7"
  }
 },
 "nbformat": 4,
 "nbformat_minor": 5
}
